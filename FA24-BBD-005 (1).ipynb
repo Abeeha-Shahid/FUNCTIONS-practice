{
 "cells": [
  {
   "cell_type": "code",
   "execution_count": 3,
   "id": "0b22b838",
   "metadata": {},
   "outputs": [
    {
     "name": "stdout",
     "output_type": "stream",
     "text": [
      "Hello, Abeeha! The current time is 12:10:02.767487.\n"
     ]
    }
   ],
   "source": [
    "#FA24-BBD-005\n",
    "#Abeeha Shahid\n",
    "#question 1: simple function\n",
    "from datetime import datetime\n",
    "\n",
    "def greet_with_time(name):\n",
    "    current_time = datetime.now().time()\n",
    "    print(f\"Hello, {name}! The current time is {current_time}.\")\n",
    "greet_with_time(\"Abeeha\")\n"
   ]
  },
  {
   "cell_type": "code",
   "execution_count": 9,
   "id": "2f31a46f",
   "metadata": {},
   "outputs": [
    {
     "name": "stdout",
     "output_type": "stream",
     "text": [
      "20.0\n"
     ]
    }
   ],
   "source": [
    "#question no 2:Function with Multiple Parameters\n",
    "def calculate_average(num1, num2, num3):\n",
    "    return (num1 + num2 + num3) / 3\n",
    "average = calculate_average(10, 20, 30)\n",
    "print(average)\n"
   ]
  },
  {
   "cell_type": "code",
   "execution_count": 16,
   "id": "2992583b",
   "metadata": {},
   "outputs": [
    {
     "name": "stdout",
     "output_type": "stream",
     "text": [
      "Name: abeeha, Age: 19, City: Lahore\n"
     ]
    }
   ],
   "source": [
    "#Default Argument\n",
    "def print_info(name, age, city):\n",
    "    print(f\"Name: {name}, Age: {age}, City: {city}\")\n",
    "\n",
    "# Example usage\n",
    "print_info(name=\"abeeha\", age=19, city=\"Lahore\")\n"
   ]
  },
  {
   "cell_type": "code",
   "execution_count": 6,
   "id": "b9d0c294",
   "metadata": {},
   "outputs": [
    {
     "name": "stdout",
     "output_type": "stream",
     "text": [
      "100\n"
     ]
    }
   ],
   "source": [
    "#Variable-Length Arguments\n",
    "def find_max(numbers):\n",
    "    return max(numbers)\n",
    "\n",
    "# Example usage\n",
    "maximum = find_max([10, 20, 30, 5, 100])\n",
    "print(maximum)\n"
   ]
  },
  {
   "cell_type": "code",
   "execution_count": 8,
   "id": "5681b239",
   "metadata": {},
   "outputs": [
    {
     "name": "stdout",
     "output_type": "stream",
     "text": [
      "120\n"
     ]
    }
   ],
   "source": [
    "#Variable-Length Arguments\n",
    "def factorial(n):\n",
    "    if n == 0 or n == 1:  # Base case\n",
    "        return 1\n",
    "    else:\n",
    "        return n * factorial(n - 1)  # Recursive case\n",
    "\n",
    "# Example usage\n",
    "result = factorial(5)\n",
    "print(result)\n"
   ]
  },
  {
   "cell_type": "code",
   "execution_count": 11,
   "id": "97baf43d",
   "metadata": {},
   "outputs": [
    {
     "name": "stdout",
     "output_type": "stream",
     "text": [
      "[2, 4, 6, 8]\n"
     ]
    }
   ],
   "source": [
    "#Function as an argument\n",
    "def apply_function(func, numbers):\n",
    "    return [func(num) for num in numbers]\n",
    "\n",
    "# Example usage\n",
    "result = apply_function(lambda x: x * 2, [1, 2, 3, 4])\n",
    "print(result)  # Output: [2, 4, 6, 8]\n"
   ]
  },
  {
   "cell_type": "code",
   "execution_count": 12,
   "id": "0032d025",
   "metadata": {},
   "outputs": [
    {
     "name": "stdout",
     "output_type": "stream",
     "text": [
      "25\n"
     ]
    }
   ],
   "source": [
    "#Lambda function\n",
    "square = lambda x: x ** 2\n",
    "\n",
    "# Example usage\n",
    "result = square(5)\n",
    "print(result)  # Output: 25\n"
   ]
  },
  {
   "cell_type": "code",
   "execution_count": 13,
   "id": "24b9f692",
   "metadata": {},
   "outputs": [
    {
     "name": "stdout",
     "output_type": "stream",
     "text": [
      "[1, 4, 9, 16]\n"
     ]
    }
   ],
   "source": [
    "#Higher-order Function\n",
    "def apply_operation(func, numbers):\n",
    "    return [func(num) for num in numbers]\n",
    "\n",
    "# Example usage\n",
    "result = apply_operation(lambda x: x ** 2, [1, 2, 3, 4])\n",
    "print(result)  # Output: [1, 4, 9, 16]\n"
   ]
  },
  {
   "cell_type": "code",
   "execution_count": 15,
   "id": "07c108b5",
   "metadata": {},
   "outputs": [
    {
     "name": "stdout",
     "output_type": "stream",
     "text": [
      "Execution time: 2.0009 seconds\n"
     ]
    }
   ],
   "source": [
    "#function decorators\n",
    "import time\n",
    "\n",
    "def measure_time(func):\n",
    "    def wrapper():\n",
    "        start_time = time.time()\n",
    "        func()  # Call the original function\n",
    "        end_time = time.time()\n",
    "        print(f\"Execution time: {end_time - start_time:.4f} seconds\")\n",
    "    return wrapper\n",
    "\n",
    "def say_hello():\n",
    "    time.sleep(2)  # Simulating a delay of 2 seconds\n",
    "\n",
    "# Applying the decorator manually\n",
    "say_hello = measure_time(say_hello)\n",
    "\n",
    "say_hello() "
   ]
  },
  {
   "cell_type": "code",
   "execution_count": null,
   "id": "a1495165",
   "metadata": {},
   "outputs": [],
   "source": []
  }
 ],
 "metadata": {
  "kernelspec": {
   "display_name": "Python 3 (ipykernel)",
   "language": "python",
   "name": "python3"
  },
  "language_info": {
   "codemirror_mode": {
    "name": "ipython",
    "version": 3
   },
   "file_extension": ".py",
   "mimetype": "text/x-python",
   "name": "python",
   "nbconvert_exporter": "python",
   "pygments_lexer": "ipython3",
   "version": "3.11.5"
  }
 },
 "nbformat": 4,
 "nbformat_minor": 5
}
